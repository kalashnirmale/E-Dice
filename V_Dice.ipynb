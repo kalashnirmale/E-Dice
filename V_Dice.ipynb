{
  "nbformat": 4,
  "nbformat_minor": 0,
  "metadata": {
    "colab": {
      "provenance": [],
      "authorship_tag": "ABX9TyP+AQ71sS0WaXa4f2rTsyGf",
      "include_colab_link": true
    },
    "kernelspec": {
      "name": "python3",
      "display_name": "Python 3"
    },
    "language_info": {
      "name": "python"
    }
  },
  "cells": [
    {
      "cell_type": "markdown",
      "metadata": {
        "id": "view-in-github",
        "colab_type": "text"
      },
      "source": [
        "<a href=\"https://colab.research.google.com/github/kalashnirmale/V-Dice/blob/main/V_Dice.ipynb\" target=\"_parent\"><img src=\"https://colab.research.google.com/assets/colab-badge.svg\" alt=\"Open In Colab\"/></a>"
      ]
    },
    {
      "cell_type": "code",
      "execution_count": 7,
      "metadata": {
        "colab": {
          "base_uri": "https://localhost:8080/"
        },
        "id": "G_AxlG6TezeA",
        "outputId": "f362db37-107f-40d5-b214-1b51bb1a84e4"
      },
      "outputs": [
        {
          "name": "stdout",
          "output_type": "stream",
          "text": [
            "Virtual DICE\n",
            "-----5-----\n",
            "press space to Role\n",
            " \n",
            "-----5-----\n",
            "press space to Role\n",
            " \n",
            "-----1-----\n",
            "press space to Role\n",
            " \n",
            "-----1-----\n",
            "press space to Role\n",
            " \n",
            "-----4-----\n",
            "press space to Role\n",
            "\n"
          ]
        }
      ],
      "source": [
        "import random\n",
        "print(\"Virtual DICE\")       \n",
        "dice = \" \"                                 \n",
        "while dice == \" \":                         \n",
        "    number = random.randint(1,6) #will print any random number from 1-6      \n",
        "    if number == 1:\n",
        "        print(\"-----1-----\")\n",
        "    if number == 2:\n",
        "        print(\"-----2-----\")\n",
        "    if number == 3:\n",
        "       print(\"-----3-----\")\n",
        "    if number == 4:\n",
        "        print(\"-----4-----\")\n",
        "    if number == 5:\n",
        "        print(\"-----5-----\")\n",
        "    if number == 6:\n",
        "        print(\"-----6-----\")\n",
        "    dice = input(\"press space and enter  to Role\\n\")      "
      ]
    }
  ]
}